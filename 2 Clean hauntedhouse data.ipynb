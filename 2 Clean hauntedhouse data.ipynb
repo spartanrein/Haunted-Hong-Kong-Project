{
 "cells": [
  {
   "cell_type": "code",
   "execution_count": null,
   "metadata": {},
   "outputs": [],
   "source": [
    "# Clean the scraped Hauntedhouse.csv"
   ]
  },
  {
   "cell_type": "code",
   "execution_count": 109,
   "metadata": {},
   "outputs": [],
   "source": [
    "import pandas as pd\n"
   ]
  },
  {
   "cell_type": "code",
   "execution_count": 110,
   "metadata": {},
   "outputs": [],
   "source": [
    "df=pd.read_csv('hauntedhouse.csv')"
   ]
  },
  {
   "cell_type": "code",
   "execution_count": 183,
   "metadata": {},
   "outputs": [
    {
     "data": {
      "text/html": [
       "<div>\n",
       "<style scoped>\n",
       "    .dataframe tbody tr th:only-of-type {\n",
       "        vertical-align: middle;\n",
       "    }\n",
       "\n",
       "    .dataframe tbody tr th {\n",
       "        vertical-align: top;\n",
       "    }\n",
       "\n",
       "    .dataframe thead th {\n",
       "        text-align: right;\n",
       "    }\n",
       "</style>\n",
       "<table border=\"1\" class=\"dataframe\">\n",
       "  <thead>\n",
       "    <tr style=\"text-align: right;\">\n",
       "      <th></th>\n",
       "      <th>Year</th>\n",
       "      <th>Month</th>\n",
       "      <th>Day</th>\n",
       "      <th>District</th>\n",
       "      <th>Address</th>\n",
       "      <th>Building</th>\n",
       "      <th>Cause</th>\n",
       "    </tr>\n",
       "  </thead>\n",
       "  <tbody>\n",
       "    <tr>\n",
       "      <th>0</th>\n",
       "      <td>2018</td>\n",
       "      <td>05</td>\n",
       "      <td>14</td>\n",
       "      <td>North Point</td>\n",
       "      <td>Island Place</td>\n",
       "      <td>Block 2</td>\n",
       "      <td>A man fell off the building and died</td>\n",
       "    </tr>\n",
       "    <tr>\n",
       "      <th>1</th>\n",
       "      <td>2018</td>\n",
       "      <td>05</td>\n",
       "      <td>10</td>\n",
       "      <td>Diamond Hill</td>\n",
       "      <td>Lung Poon Court</td>\n",
       "      <td>Lung Woo House</td>\n",
       "      <td>A woman burnt charcoal at home</td>\n",
       "    </tr>\n",
       "    <tr>\n",
       "      <th>2</th>\n",
       "      <td>2018</td>\n",
       "      <td>05</td>\n",
       "      <td>10</td>\n",
       "      <td>Tseung Kwan O</td>\n",
       "      <td>Sheung Tak Estate</td>\n",
       "      <td>Sheung Ming House</td>\n",
       "      <td>32 years old man fell off the building and died</td>\n",
       "    </tr>\n",
       "    <tr>\n",
       "      <th>3</th>\n",
       "      <td>2018</td>\n",
       "      <td>05</td>\n",
       "      <td>10</td>\n",
       "      <td>Ma On Shan</td>\n",
       "      <td>Lei On Court</td>\n",
       "      <td>Lei Wing House</td>\n",
       "      <td>A 60 years old woman fell off the building and...</td>\n",
       "    </tr>\n",
       "    <tr>\n",
       "      <th>4</th>\n",
       "      <td>2018</td>\n",
       "      <td>05</td>\n",
       "      <td>09</td>\n",
       "      <td>Tsuen Wan</td>\n",
       "      <td>Tsuen Wan Centre</td>\n",
       "      <td>Shenyang House</td>\n",
       "      <td>A woman burnt charcoal at home</td>\n",
       "    </tr>\n",
       "    <tr>\n",
       "      <th>5</th>\n",
       "      <td>2018</td>\n",
       "      <td>05</td>\n",
       "      <td>09</td>\n",
       "      <td>Fo Tan</td>\n",
       "      <td>Sui Wo Court</td>\n",
       "      <td>Court C</td>\n",
       "      <td>70 years old man fell off the building and died</td>\n",
       "    </tr>\n",
       "    <tr>\n",
       "      <th>6</th>\n",
       "      <td>2018</td>\n",
       "      <td>05</td>\n",
       "      <td>06</td>\n",
       "      <td>Tai Po</td>\n",
       "      <td>Fu Shing Building</td>\n",
       "      <td>NaN</td>\n",
       "      <td>14 years old man fell off the building and died</td>\n",
       "    </tr>\n",
       "    <tr>\n",
       "      <th>7</th>\n",
       "      <td>2018</td>\n",
       "      <td>05</td>\n",
       "      <td>03</td>\n",
       "      <td>Tin Shui Wai</td>\n",
       "      <td>Tin Yat Estate</td>\n",
       "      <td>Yat Yeung Court</td>\n",
       "      <td>50 years old man fell off the building and died</td>\n",
       "    </tr>\n",
       "    <tr>\n",
       "      <th>8</th>\n",
       "      <td>2018</td>\n",
       "      <td>04</td>\n",
       "      <td>28</td>\n",
       "      <td>Tuen Mun</td>\n",
       "      <td>Siu Shan Court</td>\n",
       "      <td>Kwai King Court</td>\n",
       "      <td>37 years old man fell off the building and died</td>\n",
       "    </tr>\n",
       "    <tr>\n",
       "      <th>9</th>\n",
       "      <td>2018</td>\n",
       "      <td>04</td>\n",
       "      <td>25</td>\n",
       "      <td>Shatin</td>\n",
       "      <td>Scenery Court</td>\n",
       "      <td>NaN</td>\n",
       "      <td>A woman fell off the building and died</td>\n",
       "    </tr>\n",
       "  </tbody>\n",
       "</table>\n",
       "</div>"
      ],
      "text/plain": [
       "   Year Month Day       District            Address           Building  \\\n",
       "0  2018    05  14    North Point       Island Place            Block 2   \n",
       "1  2018    05  10   Diamond Hill    Lung Poon Court     Lung Woo House   \n",
       "2  2018    05  10  Tseung Kwan O  Sheung Tak Estate  Sheung Ming House   \n",
       "3  2018    05  10     Ma On Shan       Lei On Court     Lei Wing House   \n",
       "4  2018    05  09      Tsuen Wan   Tsuen Wan Centre     Shenyang House   \n",
       "5  2018    05  09         Fo Tan       Sui Wo Court            Court C   \n",
       "6  2018    05  06         Tai Po  Fu Shing Building                NaN   \n",
       "7  2018    05  03   Tin Shui Wai     Tin Yat Estate    Yat Yeung Court   \n",
       "8  2018    04  28       Tuen Mun     Siu Shan Court    Kwai King Court   \n",
       "9  2018    04  25         Shatin      Scenery Court                NaN   \n",
       "\n",
       "                                               Cause  \n",
       "0               A man fell off the building and died  \n",
       "1                     A woman burnt charcoal at home  \n",
       "2    32 years old man fell off the building and died  \n",
       "3  A 60 years old woman fell off the building and...  \n",
       "4                     A woman burnt charcoal at home  \n",
       "5    70 years old man fell off the building and died  \n",
       "6    14 years old man fell off the building and died  \n",
       "7    50 years old man fell off the building and died  \n",
       "8    37 years old man fell off the building and died  \n",
       "9             A woman fell off the building and died  "
      ]
     },
     "execution_count": 183,
     "metadata": {},
     "output_type": "execute_result"
    }
   ],
   "source": [
    "df.head(10)"
   ]
  },
  {
   "cell_type": "code",
   "execution_count": 120,
   "metadata": {},
   "outputs": [],
   "source": [
    "#Get Day and Month from Date\n",
    "date=[]\n",
    "month = []\n",
    "day = []\n",
    "for i in df['Date']:\n",
    "    date.append(i.split(\"-\"))\n",
    "for i in date:\n",
    "    month.append(i[0])\n",
    "for i in date:\n",
    "    day.append(i[1])\n",
    "\n",
    "df['Month']=month\n",
    "df['Day']=day\n",
    "df =df[['Year','Month','Day','District','Address','Building','Cause']]"
   ]
  },
  {
   "cell_type": "code",
   "execution_count": 180,
   "metadata": {},
   "outputs": [],
   "source": [
    "#Check for null values:\n",
    "df = df.dropna(axis=0, subset=['District', 'Address', 'Cause'], thresh=3) "
   ]
  },
  {
   "cell_type": "code",
   "execution_count": 186,
   "metadata": {},
   "outputs": [],
   "source": [
    "df.to_csv('cleanedhauntedhouse.csv')\n"
   ]
  },
  {
   "cell_type": "code",
   "execution_count": null,
   "metadata": {},
   "outputs": [],
   "source": []
  },
  {
   "cell_type": "code",
   "execution_count": null,
   "metadata": {},
   "outputs": [],
   "source": []
  },
  {
   "cell_type": "code",
   "execution_count": null,
   "metadata": {},
   "outputs": [],
   "source": []
  }
 ],
 "metadata": {
  "kernelspec": {
   "display_name": "Python 3",
   "language": "python",
   "name": "python3"
  },
  "language_info": {
   "codemirror_mode": {
    "name": "ipython",
    "version": 3
   },
   "file_extension": ".py",
   "mimetype": "text/x-python",
   "name": "python",
   "nbconvert_exporter": "python",
   "pygments_lexer": "ipython3",
   "version": "3.6.4"
  }
 },
 "nbformat": 4,
 "nbformat_minor": 2
}
