{
 "cells": [
  {
   "cell_type": "code",
   "execution_count": null,
   "metadata": {},
   "outputs": [],
   "source": [
    "# Clean the scraped Hauntedhouse.csv"
   ]
  },
  {
   "cell_type": "code",
   "execution_count": 37,
   "metadata": {},
   "outputs": [],
   "source": [
    "import pandas as pd\n"
   ]
  },
  {
   "cell_type": "code",
   "execution_count": 38,
   "metadata": {},
   "outputs": [],
   "source": [
    "df=pd.read_csv('hauntedhouse.csv')"
   ]
  },
  {
   "cell_type": "code",
   "execution_count": 39,
   "metadata": {},
   "outputs": [
    {
     "data": {
      "text/html": [
       "<div>\n",
       "<style scoped>\n",
       "    .dataframe tbody tr th:only-of-type {\n",
       "        vertical-align: middle;\n",
       "    }\n",
       "\n",
       "    .dataframe tbody tr th {\n",
       "        vertical-align: top;\n",
       "    }\n",
       "\n",
       "    .dataframe thead th {\n",
       "        text-align: right;\n",
       "    }\n",
       "</style>\n",
       "<table border=\"1\" class=\"dataframe\">\n",
       "  <thead>\n",
       "    <tr style=\"text-align: right;\">\n",
       "      <th></th>\n",
       "      <th>Unnamed: 0</th>\n",
       "      <th>Year</th>\n",
       "      <th>Date</th>\n",
       "      <th>District</th>\n",
       "      <th>Address</th>\n",
       "      <th>Building</th>\n",
       "      <th>Cause</th>\n",
       "    </tr>\n",
       "  </thead>\n",
       "  <tbody>\n",
       "    <tr>\n",
       "      <th>0</th>\n",
       "      <td>0</td>\n",
       "      <td>2018</td>\n",
       "      <td>05-14</td>\n",
       "      <td>North Point</td>\n",
       "      <td>Island Place</td>\n",
       "      <td>Block 2</td>\n",
       "      <td>A man fell off the building and died</td>\n",
       "    </tr>\n",
       "    <tr>\n",
       "      <th>1</th>\n",
       "      <td>1</td>\n",
       "      <td>2018</td>\n",
       "      <td>05-10</td>\n",
       "      <td>Diamond Hill</td>\n",
       "      <td>Lung Poon Court</td>\n",
       "      <td>Lung Woo House</td>\n",
       "      <td>A woman burnt charcoal at home</td>\n",
       "    </tr>\n",
       "    <tr>\n",
       "      <th>2</th>\n",
       "      <td>2</td>\n",
       "      <td>2018</td>\n",
       "      <td>05-10</td>\n",
       "      <td>Tseung Kwan O</td>\n",
       "      <td>Sheung Tak Estate</td>\n",
       "      <td>Sheung Ming House</td>\n",
       "      <td>32 years old man fell off the building and died</td>\n",
       "    </tr>\n",
       "    <tr>\n",
       "      <th>3</th>\n",
       "      <td>3</td>\n",
       "      <td>2018</td>\n",
       "      <td>05-10</td>\n",
       "      <td>Ma On Shan</td>\n",
       "      <td>Lei On Court</td>\n",
       "      <td>Lei Wing House</td>\n",
       "      <td>A 60 years old woman fell off the building and...</td>\n",
       "    </tr>\n",
       "    <tr>\n",
       "      <th>4</th>\n",
       "      <td>4</td>\n",
       "      <td>2018</td>\n",
       "      <td>05-09</td>\n",
       "      <td>Tsuen Wan</td>\n",
       "      <td>Tsuen Wan Centre</td>\n",
       "      <td>Shenyang House</td>\n",
       "      <td>A woman burnt charcoal at home</td>\n",
       "    </tr>\n",
       "    <tr>\n",
       "      <th>5</th>\n",
       "      <td>5</td>\n",
       "      <td>2018</td>\n",
       "      <td>05-09</td>\n",
       "      <td>Fo Tan</td>\n",
       "      <td>Sui Wo Court</td>\n",
       "      <td>Court C</td>\n",
       "      <td>70 years old man fell off the building and died</td>\n",
       "    </tr>\n",
       "    <tr>\n",
       "      <th>6</th>\n",
       "      <td>6</td>\n",
       "      <td>2018</td>\n",
       "      <td>05-06</td>\n",
       "      <td>Tai Po</td>\n",
       "      <td>Fu Shing Building</td>\n",
       "      <td>NaN</td>\n",
       "      <td>14 years old man fell off the building and died</td>\n",
       "    </tr>\n",
       "    <tr>\n",
       "      <th>7</th>\n",
       "      <td>7</td>\n",
       "      <td>2018</td>\n",
       "      <td>05-03</td>\n",
       "      <td>Tin Shui Wai</td>\n",
       "      <td>Tin Yat Estate</td>\n",
       "      <td>Yat Yeung Court</td>\n",
       "      <td>50 years old man fell off the building and died</td>\n",
       "    </tr>\n",
       "    <tr>\n",
       "      <th>8</th>\n",
       "      <td>8</td>\n",
       "      <td>2018</td>\n",
       "      <td>04-28</td>\n",
       "      <td>Tuen Mun</td>\n",
       "      <td>Siu Shan Court</td>\n",
       "      <td>Kwai King Court</td>\n",
       "      <td>37 years old man fell off the building and died</td>\n",
       "    </tr>\n",
       "    <tr>\n",
       "      <th>9</th>\n",
       "      <td>9</td>\n",
       "      <td>2018</td>\n",
       "      <td>04-25</td>\n",
       "      <td>Shatin</td>\n",
       "      <td>Scenery Court</td>\n",
       "      <td>NaN</td>\n",
       "      <td>A woman fell off the building and died</td>\n",
       "    </tr>\n",
       "  </tbody>\n",
       "</table>\n",
       "</div>"
      ],
      "text/plain": [
       "   Unnamed: 0  Year   Date       District            Address  \\\n",
       "0           0  2018  05-14    North Point       Island Place   \n",
       "1           1  2018  05-10   Diamond Hill    Lung Poon Court   \n",
       "2           2  2018  05-10  Tseung Kwan O  Sheung Tak Estate   \n",
       "3           3  2018  05-10     Ma On Shan       Lei On Court   \n",
       "4           4  2018  05-09      Tsuen Wan   Tsuen Wan Centre   \n",
       "5           5  2018  05-09         Fo Tan       Sui Wo Court   \n",
       "6           6  2018  05-06         Tai Po  Fu Shing Building   \n",
       "7           7  2018  05-03   Tin Shui Wai     Tin Yat Estate   \n",
       "8           8  2018  04-28       Tuen Mun     Siu Shan Court   \n",
       "9           9  2018  04-25         Shatin      Scenery Court   \n",
       "\n",
       "            Building                                              Cause  \n",
       "0            Block 2               A man fell off the building and died  \n",
       "1     Lung Woo House                     A woman burnt charcoal at home  \n",
       "2  Sheung Ming House    32 years old man fell off the building and died  \n",
       "3     Lei Wing House  A 60 years old woman fell off the building and...  \n",
       "4     Shenyang House                     A woman burnt charcoal at home  \n",
       "5            Court C    70 years old man fell off the building and died  \n",
       "6                NaN    14 years old man fell off the building and died  \n",
       "7    Yat Yeung Court    50 years old man fell off the building and died  \n",
       "8    Kwai King Court    37 years old man fell off the building and died  \n",
       "9                NaN             A woman fell off the building and died  "
      ]
     },
     "execution_count": 39,
     "metadata": {},
     "output_type": "execute_result"
    }
   ],
   "source": [
    "df.head(10)"
   ]
  },
  {
   "cell_type": "code",
   "execution_count": 40,
   "metadata": {},
   "outputs": [],
   "source": [
    "#Get Day and Month from Date\n",
    "date=[]\n",
    "month = []\n",
    "day = []\n",
    "for i in df['Date']:\n",
    "    date.append(i.split(\"-\"))\n",
    "for i in date:\n",
    "    month.append(i[0])\n",
    "for i in date:\n",
    "    day.append(i[1])\n",
    "\n",
    "df['Month']=month\n",
    "df['Day']=day\n",
    "df =df[['Year','Month','Day','District','Address','Building','Cause']]"
   ]
  },
  {
   "cell_type": "code",
   "execution_count": 53,
   "metadata": {},
   "outputs": [],
   "source": [
    "#Check for null values:\n",
    "df = df.dropna(axis=0, subset=['District', 'Address', 'Cause'], thresh=3) \n",
    "\n",
    "#drop duplicates\n",
    "df.drop_duplicates(keep='first',inplace = True)\n",
    "df = df[df.Address != '20/F Tsui Mei House Tsui Ping Estate']\n",
    "df = df[df.Address != '15/F Luen Wo Apartment 308, Electric Road']"
   ]
  },
  {
   "cell_type": "code",
   "execution_count": 186,
   "metadata": {},
   "outputs": [],
   "source": [
    "df.to_csv('cleanedhauntedhouse.csv')\n"
   ]
  },
  {
   "cell_type": "code",
   "execution_count": 59,
   "metadata": {},
   "outputs": [
    {
     "data": {
      "text/plain": [
       "True"
      ]
     },
     "execution_count": 59,
     "metadata": {},
     "output_type": "execute_result"
    }
   ],
   "source": [
    "df.duplicated()"
   ]
  },
  {
   "cell_type": "code",
   "execution_count": 34,
   "metadata": {},
   "outputs": [
    {
     "data": {
      "text/plain": [
       "3062"
      ]
     },
     "execution_count": 34,
     "metadata": {},
     "output_type": "execute_result"
    }
   ],
   "source": [
    "df.count()"
   ]
  },
  {
   "cell_type": "code",
   "execution_count": 43,
   "metadata": {},
   "outputs": [
    {
     "data": {
      "text/html": [
       "<div>\n",
       "<style scoped>\n",
       "    .dataframe tbody tr th:only-of-type {\n",
       "        vertical-align: middle;\n",
       "    }\n",
       "\n",
       "    .dataframe tbody tr th {\n",
       "        vertical-align: top;\n",
       "    }\n",
       "\n",
       "    .dataframe thead th {\n",
       "        text-align: right;\n",
       "    }\n",
       "</style>\n",
       "<table border=\"1\" class=\"dataframe\">\n",
       "  <thead>\n",
       "    <tr style=\"text-align: right;\">\n",
       "      <th></th>\n",
       "      <th>Year</th>\n",
       "      <th>Month</th>\n",
       "      <th>Day</th>\n",
       "      <th>District</th>\n",
       "      <th>Address</th>\n",
       "      <th>Building</th>\n",
       "      <th>Cause</th>\n",
       "    </tr>\n",
       "  </thead>\n",
       "  <tbody>\n",
       "    <tr>\n",
       "      <th>0</th>\n",
       "      <td>2018</td>\n",
       "      <td>05</td>\n",
       "      <td>14</td>\n",
       "      <td>North Point</td>\n",
       "      <td>Island Place</td>\n",
       "      <td>Block 2</td>\n",
       "      <td>A man fell off the building and died</td>\n",
       "    </tr>\n",
       "    <tr>\n",
       "      <th>1</th>\n",
       "      <td>2018</td>\n",
       "      <td>05</td>\n",
       "      <td>10</td>\n",
       "      <td>Diamond Hill</td>\n",
       "      <td>Lung Poon Court</td>\n",
       "      <td>Lung Woo House</td>\n",
       "      <td>A woman burnt charcoal at home</td>\n",
       "    </tr>\n",
       "    <tr>\n",
       "      <th>2</th>\n",
       "      <td>2018</td>\n",
       "      <td>05</td>\n",
       "      <td>10</td>\n",
       "      <td>Tseung Kwan O</td>\n",
       "      <td>Sheung Tak Estate</td>\n",
       "      <td>Sheung Ming House</td>\n",
       "      <td>32 years old man fell off the building and died</td>\n",
       "    </tr>\n",
       "    <tr>\n",
       "      <th>3</th>\n",
       "      <td>2018</td>\n",
       "      <td>05</td>\n",
       "      <td>10</td>\n",
       "      <td>Ma On Shan</td>\n",
       "      <td>Lei On Court</td>\n",
       "      <td>Lei Wing House</td>\n",
       "      <td>A 60 years old woman fell off the building and...</td>\n",
       "    </tr>\n",
       "    <tr>\n",
       "      <th>4</th>\n",
       "      <td>2018</td>\n",
       "      <td>05</td>\n",
       "      <td>09</td>\n",
       "      <td>Tsuen Wan</td>\n",
       "      <td>Tsuen Wan Centre</td>\n",
       "      <td>Shenyang House</td>\n",
       "      <td>A woman burnt charcoal at home</td>\n",
       "    </tr>\n",
       "  </tbody>\n",
       "</table>\n",
       "</div>"
      ],
      "text/plain": [
       "   Year Month Day       District            Address           Building  \\\n",
       "0  2018    05  14    North Point       Island Place            Block 2   \n",
       "1  2018    05  10   Diamond Hill    Lung Poon Court     Lung Woo House   \n",
       "2  2018    05  10  Tseung Kwan O  Sheung Tak Estate  Sheung Ming House   \n",
       "3  2018    05  10     Ma On Shan       Lei On Court     Lei Wing House   \n",
       "4  2018    05  09      Tsuen Wan   Tsuen Wan Centre     Shenyang House   \n",
       "\n",
       "                                               Cause  \n",
       "0               A man fell off the building and died  \n",
       "1                     A woman burnt charcoal at home  \n",
       "2    32 years old man fell off the building and died  \n",
       "3  A 60 years old woman fell off the building and...  \n",
       "4                     A woman burnt charcoal at home  "
      ]
     },
     "execution_count": 43,
     "metadata": {},
     "output_type": "execute_result"
    }
   ],
   "source": [
    "df.head()"
   ]
  },
  {
   "cell_type": "code",
   "execution_count": null,
   "metadata": {},
   "outputs": [],
   "source": []
  },
  {
   "cell_type": "code",
   "execution_count": null,
   "metadata": {},
   "outputs": [],
   "source": []
  }
 ],
 "metadata": {
  "kernelspec": {
   "display_name": "Python 3",
   "language": "python",
   "name": "python3"
  },
  "language_info": {
   "codemirror_mode": {
    "name": "ipython",
    "version": 3
   },
   "file_extension": ".py",
   "mimetype": "text/x-python",
   "name": "python",
   "nbconvert_exporter": "python",
   "pygments_lexer": "ipython3",
   "version": "3.6.4"
  }
 },
 "nbformat": 4,
 "nbformat_minor": 2
}
