{
 "cells": [
  {
   "cell_type": "code",
   "execution_count": 266,
   "metadata": {},
   "outputs": [],
   "source": [
    "from selenium import webdriver\n",
    "chrome_path =r'C:\\users\\deguz\\scraping\\chromedriver.exe'"
   ]
  },
  {
   "cell_type": "code",
   "execution_count": 268,
   "metadata": {},
   "outputs": [],
   "source": [
    "driver = webdriver.Chrome(chrome_path)\n",
    "driver.get('https://www.squarefoot.com.hk/haunted/')"
   ]
  },
  {
   "cell_type": "code",
   "execution_count": 269,
   "metadata": {},
   "outputs": [],
   "source": [
    "#Get the table \n",
    "cleandata=[]\n",
    "def get_table(cleandata):\n",
    "    data = []\n",
    "    for tr in driver.find_elements_by_xpath('//*[@id=\"left_content\"]/div[3]/table'):\n",
    "        tds = tr.find_elements_by_tag_name('td')\n",
    "        if tds: \n",
    "            data.append([td.text for td in tds])\n",
    "    data = [y for x in data for y in x]\n",
    "    del data[0]\n",
    "    del data[-1]\n",
    "    cleandata.append(data)"
   ]
  },
  {
   "cell_type": "code",
   "execution_count": 272,
   "metadata": {},
   "outputs": [],
   "source": [
    "#Run once for the first page\n",
    "get_table(cleandata)\n",
    "driver.find_element_by_xpath('//*[@id=\"searchOptions\"]/li/a').click()\n",
    "\n",
    "       "
   ]
  },
  {
   "cell_type": "code",
   "execution_count": 273,
   "metadata": {},
   "outputs": [
    {
     "name": "stdout",
     "output_type": "stream",
     "text": [
      "success!\n"
     ]
    }
   ],
   "source": [
    "#Run for subsequent pages\n",
    "while True:\n",
    "    get_table(cleandata)\n",
    "    try:\n",
    "        driver.find_element_by_xpath('//*[@id=\"searchOptions\"]/li/a[2]').click()\n",
    "    except:\n",
    "        print('success!')\n",
    "        break"
   ]
  },
  {
   "cell_type": "code",
   "execution_count": 274,
   "metadata": {},
   "outputs": [],
   "source": [
    "save = cleandata"
   ]
  },
  {
   "cell_type": "code",
   "execution_count": 276,
   "metadata": {},
   "outputs": [],
   "source": [
    "#Flatten List\n",
    "cleandata = [y for x in cleandata for y in x]"
   ]
  },
  {
   "cell_type": "code",
   "execution_count": 314,
   "metadata": {},
   "outputs": [],
   "source": [
    "#Create Dataframe\n",
    "import pandas as pd\n",
    "\n",
    "columnnames = [\"Year\",\"Date\",\"District\",\"Address\",\"Building\",\"Cause\"]\n",
    "df = pd.DataFrame(columns=columnnames)\n",
    "df['Year']=cleandata[0::6]\n",
    "df['Date']=cleandata[1::6]\n",
    "df['District']=cleandata[2::6]\n",
    "df['Address']=cleandata[3::6]\n",
    "df['Building']=cleandata[4::6]\n",
    "df['Cause']=cleandata[5::6]"
   ]
  },
  {
   "cell_type": "code",
   "execution_count": 316,
   "metadata": {},
   "outputs": [
    {
     "data": {
      "text/html": [
       "<div>\n",
       "<style scoped>\n",
       "    .dataframe tbody tr th:only-of-type {\n",
       "        vertical-align: middle;\n",
       "    }\n",
       "\n",
       "    .dataframe tbody tr th {\n",
       "        vertical-align: top;\n",
       "    }\n",
       "\n",
       "    .dataframe thead th {\n",
       "        text-align: right;\n",
       "    }\n",
       "</style>\n",
       "<table border=\"1\" class=\"dataframe\">\n",
       "  <thead>\n",
       "    <tr style=\"text-align: right;\">\n",
       "      <th></th>\n",
       "      <th>Year</th>\n",
       "      <th>Date</th>\n",
       "      <th>District</th>\n",
       "      <th>Address</th>\n",
       "      <th>Building</th>\n",
       "      <th>Cause</th>\n",
       "    </tr>\n",
       "  </thead>\n",
       "  <tbody>\n",
       "    <tr>\n",
       "      <th>0</th>\n",
       "      <td>2018</td>\n",
       "      <td>05-14</td>\n",
       "      <td>North Point</td>\n",
       "      <td>Island Place</td>\n",
       "      <td>Block 2</td>\n",
       "      <td>A man fell off the building and died</td>\n",
       "    </tr>\n",
       "    <tr>\n",
       "      <th>1</th>\n",
       "      <td>2018</td>\n",
       "      <td>05-10</td>\n",
       "      <td>Diamond Hill</td>\n",
       "      <td>Lung Poon Court</td>\n",
       "      <td>Lung Woo House</td>\n",
       "      <td>A woman burnt charcoal at home</td>\n",
       "    </tr>\n",
       "    <tr>\n",
       "      <th>2</th>\n",
       "      <td>2018</td>\n",
       "      <td>05-10</td>\n",
       "      <td>Tseung Kwan O</td>\n",
       "      <td>Sheung Tak Estate</td>\n",
       "      <td>Sheung Ming House</td>\n",
       "      <td>32 years old man fell off the building and died</td>\n",
       "    </tr>\n",
       "    <tr>\n",
       "      <th>3</th>\n",
       "      <td>2018</td>\n",
       "      <td>05-10</td>\n",
       "      <td>Ma On Shan</td>\n",
       "      <td>Lei On Court</td>\n",
       "      <td>Lei Wing House</td>\n",
       "      <td>A 60 years old woman fell off the building and...</td>\n",
       "    </tr>\n",
       "    <tr>\n",
       "      <th>4</th>\n",
       "      <td>2018</td>\n",
       "      <td>05-09</td>\n",
       "      <td>Tsuen Wan</td>\n",
       "      <td>Tsuen Wan Centre</td>\n",
       "      <td>Shenyang House</td>\n",
       "      <td>A woman burnt charcoal at home</td>\n",
       "    </tr>\n",
       "    <tr>\n",
       "      <th>5</th>\n",
       "      <td>2018</td>\n",
       "      <td>05-09</td>\n",
       "      <td>Fo Tan</td>\n",
       "      <td>Sui Wo Court</td>\n",
       "      <td>Court C</td>\n",
       "      <td>70 years old man fell off the building and died</td>\n",
       "    </tr>\n",
       "    <tr>\n",
       "      <th>6</th>\n",
       "      <td>2018</td>\n",
       "      <td>05-06</td>\n",
       "      <td>Tai Po</td>\n",
       "      <td>Fu Shing Building</td>\n",
       "      <td></td>\n",
       "      <td>14 years old man fell off the building and died</td>\n",
       "    </tr>\n",
       "    <tr>\n",
       "      <th>7</th>\n",
       "      <td>2018</td>\n",
       "      <td>05-03</td>\n",
       "      <td>Tin Shui Wai</td>\n",
       "      <td>Tin Yat Estate</td>\n",
       "      <td>Yat Yeung Court</td>\n",
       "      <td>50 years old man fell off the building and died</td>\n",
       "    </tr>\n",
       "    <tr>\n",
       "      <th>8</th>\n",
       "      <td>2018</td>\n",
       "      <td>04-28</td>\n",
       "      <td>Tuen Mun</td>\n",
       "      <td>Siu Shan Court</td>\n",
       "      <td>Kwai King Court</td>\n",
       "      <td>37 years old man fell off the building and died</td>\n",
       "    </tr>\n",
       "    <tr>\n",
       "      <th>9</th>\n",
       "      <td>2018</td>\n",
       "      <td>04-25</td>\n",
       "      <td>Shatin</td>\n",
       "      <td>Scenery Court</td>\n",
       "      <td></td>\n",
       "      <td>A woman fell off the building and died</td>\n",
       "    </tr>\n",
       "  </tbody>\n",
       "</table>\n",
       "</div>"
      ],
      "text/plain": [
       "   Year   Date       District            Address           Building  \\\n",
       "0  2018  05-14    North Point       Island Place            Block 2   \n",
       "1  2018  05-10   Diamond Hill    Lung Poon Court     Lung Woo House   \n",
       "2  2018  05-10  Tseung Kwan O  Sheung Tak Estate  Sheung Ming House   \n",
       "3  2018  05-10     Ma On Shan       Lei On Court     Lei Wing House   \n",
       "4  2018  05-09      Tsuen Wan   Tsuen Wan Centre     Shenyang House   \n",
       "5  2018  05-09         Fo Tan       Sui Wo Court            Court C   \n",
       "6  2018  05-06         Tai Po  Fu Shing Building                      \n",
       "7  2018  05-03   Tin Shui Wai     Tin Yat Estate    Yat Yeung Court   \n",
       "8  2018  04-28       Tuen Mun     Siu Shan Court    Kwai King Court   \n",
       "9  2018  04-25         Shatin      Scenery Court                      \n",
       "\n",
       "                                               Cause  \n",
       "0               A man fell off the building and died  \n",
       "1                     A woman burnt charcoal at home  \n",
       "2    32 years old man fell off the building and died  \n",
       "3  A 60 years old woman fell off the building and...  \n",
       "4                     A woman burnt charcoal at home  \n",
       "5    70 years old man fell off the building and died  \n",
       "6    14 years old man fell off the building and died  \n",
       "7    50 years old man fell off the building and died  \n",
       "8    37 years old man fell off the building and died  \n",
       "9             A woman fell off the building and died  "
      ]
     },
     "execution_count": 316,
     "metadata": {},
     "output_type": "execute_result"
    }
   ],
   "source": [
    "df.head(10)"
   ]
  },
  {
   "cell_type": "code",
   "execution_count": 317,
   "metadata": {},
   "outputs": [
    {
     "data": {
      "text/html": [
       "<div>\n",
       "<style scoped>\n",
       "    .dataframe tbody tr th:only-of-type {\n",
       "        vertical-align: middle;\n",
       "    }\n",
       "\n",
       "    .dataframe tbody tr th {\n",
       "        vertical-align: top;\n",
       "    }\n",
       "\n",
       "    .dataframe thead th {\n",
       "        text-align: right;\n",
       "    }\n",
       "</style>\n",
       "<table border=\"1\" class=\"dataframe\">\n",
       "  <thead>\n",
       "    <tr style=\"text-align: right;\">\n",
       "      <th></th>\n",
       "      <th>Year</th>\n",
       "      <th>Date</th>\n",
       "      <th>District</th>\n",
       "      <th>Address</th>\n",
       "      <th>Building</th>\n",
       "      <th>Cause</th>\n",
       "    </tr>\n",
       "  </thead>\n",
       "  <tbody>\n",
       "    <tr>\n",
       "      <th>count</th>\n",
       "      <td>5095</td>\n",
       "      <td>5095</td>\n",
       "      <td>5095</td>\n",
       "      <td>5095</td>\n",
       "      <td>5095</td>\n",
       "      <td>5095</td>\n",
       "    </tr>\n",
       "    <tr>\n",
       "      <th>unique</th>\n",
       "      <td>34</td>\n",
       "      <td>366</td>\n",
       "      <td>104</td>\n",
       "      <td>2569</td>\n",
       "      <td>1648</td>\n",
       "      <td>2526</td>\n",
       "    </tr>\n",
       "    <tr>\n",
       "      <th>top</th>\n",
       "      <td>2017</td>\n",
       "      <td>01-02</td>\n",
       "      <td>Tuen Mun</td>\n",
       "      <td></td>\n",
       "      <td></td>\n",
       "      <td></td>\n",
       "    </tr>\n",
       "    <tr>\n",
       "      <th>freq</th>\n",
       "      <td>436</td>\n",
       "      <td>26</td>\n",
       "      <td>391</td>\n",
       "      <td>2032</td>\n",
       "      <td>2105</td>\n",
       "      <td>1665</td>\n",
       "    </tr>\n",
       "  </tbody>\n",
       "</table>\n",
       "</div>"
      ],
      "text/plain": [
       "        Year   Date  District Address Building Cause\n",
       "count   5095   5095      5095    5095     5095  5095\n",
       "unique    34    366       104    2569     1648  2526\n",
       "top     2017  01-02  Tuen Mun                       \n",
       "freq     436     26       391    2032     2105  1665"
      ]
     },
     "execution_count": 317,
     "metadata": {},
     "output_type": "execute_result"
    }
   ],
   "source": [
    "df.describe()"
   ]
  },
  {
   "cell_type": "code",
   "execution_count": 318,
   "metadata": {},
   "outputs": [],
   "source": [
    "df.to_csv('hauntedhouse.csv')"
   ]
  },
  {
   "cell_type": "code",
   "execution_count": null,
   "metadata": {},
   "outputs": [],
   "source": []
  }
 ],
 "metadata": {
  "kernelspec": {
   "display_name": "Python 3",
   "language": "python",
   "name": "python3"
  },
  "language_info": {
   "codemirror_mode": {
    "name": "ipython",
    "version": 3
   },
   "file_extension": ".py",
   "mimetype": "text/x-python",
   "name": "python",
   "nbconvert_exporter": "python",
   "pygments_lexer": "ipython3",
   "version": "3.6.4"
  }
 },
 "nbformat": 4,
 "nbformat_minor": 2
}
